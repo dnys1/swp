{
 "cells": [
  {
   "cell_type": "code",
   "execution_count": 3,
   "metadata": {},
   "outputs": [
    {
     "data": {
      "application/vnd.jupyter.widget-view+json": {
       "model_id": "77f90db7b3204759b8761b609e819fb2",
       "version_major": 2,
       "version_minor": 0
      },
      "text/plain": [
       "FigureCanvasNbAgg()"
      ]
     },
     "metadata": {},
     "output_type": "display_data"
    }
   ],
   "source": [
    "%matplotlib widget\n",
    "import pandas as pd\n",
    "import geopandas\n",
    "import matplotlib.pyplot as plt\n",
    "from shapely.geometry import Point\n",
    "\n",
    "# The main two projections so we can switch between them\n",
    "mercator_prj = {'init': 'epsg:3395'}\n",
    "platte_prj = {'init': 'epsg:4326'}\n",
    "\n",
    "# Load the California shapefile\n",
    "CA = geopandas.read_file('CA_State/CA_State_TIGER2016.shp')\n",
    "\n",
    "# Load the reservoir information and create a Coordinates column\n",
    "reservoirs = pd.read_csv('../data/reservoirs.csv', index_col='Name')\n",
    "reservoirs['Coordinates'] = list(zip(reservoirs.Longitude, reservoirs.Latitude))\n",
    "reservoirs['Coordinates'] = reservoirs['Coordinates'].apply(Point)\n",
    "\n",
    "# Create the GeoDataFrame for plotting\n",
    "gdf = geopandas.GeoDataFrame(reservoirs, geometry='Coordinates')\n",
    "# Set the initial projection\n",
    "gdf.crs = platte_prj\n",
    "# Re-project\n",
    "gdf = gdf.to_crs(mercator_prj)\n",
    "\n",
    "fig, ax = plt.subplots()\n",
    "\n",
    "# Plot the California shapefile as an outline\n",
    "CA.plot(ax=ax, color='white', edgecolor='black')\n",
    "\n",
    "# Get the X,Y coordinates of the points and plot them as a scatter\n",
    "# This makes it easier to index them later and check if we're hovering over them\n",
    "gdf_x = pd.Series((pt.x for pt in gdf['Coordinates'].get_values()))\n",
    "gdf_y = pd.Series((pt.y for pt in gdf['Coordinates'].get_values()))\n",
    "sc = ax.scatter(x=gdf_x, y=gdf_y)\n",
    "ax.set_title('Reservoir Sites')\n",
    "\n",
    "annot = ax.annotate(\"\", xy=(0,0), xytext=(20,20), textcoords=\"offset points\",\n",
    "                    bbox=dict(boxstyle=\"round\", fc=\"w\"),\n",
    "                    arrowprops=dict(arrowstyle=\"->\"))\n",
    "annot.set_visible(False)\n",
    "                    \n",
    "def update_annot(ind):\n",
    "    index = ind[\"ind\"][0]\n",
    "    pos = sc.get_offsets()[index]\n",
    "    annot.xy = pos\n",
    "    text = \"{}\\nElevation: {} ft\".format(reservoirs.index[index], reservoirs.iloc[index][\"Elevation\"])\n",
    "    annot.set_text(text)\n",
    "    annot.get_bbox_patch().set_facecolor('blue')\n",
    "    annot.get_bbox_patch().set_alpha(0.4)\n",
    "    \n",
    "def hover(event):\n",
    "    vis = annot.get_visible()\n",
    "    if event.inaxes == ax:\n",
    "        cont, ind = sc.contains(event)\n",
    "        if cont:\n",
    "            update_annot(ind)\n",
    "            annot.set_visible(True)\n",
    "            fig.canvas.draw_idle()\n",
    "        else:\n",
    "            if vis:\n",
    "                annot.set_visible(False)\n",
    "                fig.canvas.draw_idle()\n",
    "                \n",
    "fig.canvas.mpl_connect(\"motion_notify_event\", hover)\n",
    "\n",
    "# Show plot\n",
    "plt.show()"
   ]
  },
  {
   "cell_type": "code",
   "execution_count": null,
   "metadata": {},
   "outputs": [],
   "source": []
  }
 ],
 "metadata": {
  "kernelspec": {
   "display_name": "Python 3",
   "language": "python",
   "name": "python3"
  },
  "language_info": {
   "codemirror_mode": {
    "name": "ipython",
    "version": 3
   },
   "file_extension": ".py",
   "mimetype": "text/x-python",
   "name": "python",
   "nbconvert_exporter": "python",
   "pygments_lexer": "ipython3",
   "version": "3.6.5"
  }
 },
 "nbformat": 4,
 "nbformat_minor": 2
}
