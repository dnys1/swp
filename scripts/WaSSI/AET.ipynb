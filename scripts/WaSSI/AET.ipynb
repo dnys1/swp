{
 "cells": [
  {
   "cell_type": "code",
   "execution_count": 21,
   "metadata": {},
   "outputs": [
    {
     "name": "stdout",
     "output_type": "stream",
     "text": [
      "Successfully wrote AET_data.csv\n"
     ]
    }
   ],
   "source": [
    "import pandas as pd\n",
    "\n",
    "ET_data = pd.read_csv('../../data/PRISM/PRISM_processed.csv', index_col='Date', parse_dates=True)\n",
    "PET = ET_data.ET\n",
    "P = ET_data.PRCP\n",
    "LandUse_data = pd.read_csv('../../data/WaSSI/land_use.csv', index_col='Value')\n",
    "\n",
    "# Determine spatially averaged land use coefficient (w in equation)\n",
    "w = (LandUse_data['Count'] * LandUse_data['Coefficient']).sum()  / LandUse_data['Count'].sum()\n",
    "\n",
    "# Compute actual evapotranspiration (AET) using Sun equation and above coefficent\n",
    "AET = P * (1 + w * PET / P) / (1 + w * PET / P + P / PET)\n",
    "\n",
    "ET_data['AET'] = AET\n",
    "ET_data.columns = ['P', 'PET', 'AET']\n",
    "\n",
    "ET_data.to_csv('../../data/WaSSI/AET_data.csv', na_rep=0)\n",
    "\n",
    "print('Successfully wrote AET_data.csv')"
   ]
  },
  {
   "cell_type": "code",
   "execution_count": null,
   "metadata": {},
   "outputs": [],
   "source": []
  }
 ],
 "metadata": {
  "kernelspec": {
   "display_name": "Python 3",
   "language": "python",
   "name": "python3"
  },
  "language_info": {
   "codemirror_mode": {
    "name": "ipython",
    "version": 3
   },
   "file_extension": ".py",
   "mimetype": "text/x-python",
   "name": "python",
   "nbconvert_exporter": "python",
   "pygments_lexer": "ipython3",
   "version": "3.6.5"
  }
 },
 "nbformat": 4,
 "nbformat_minor": 2
}
