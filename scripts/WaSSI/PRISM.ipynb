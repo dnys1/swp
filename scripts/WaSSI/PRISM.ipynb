{
 "cells": [
  {
   "cell_type": "code",
   "execution_count": 3,
   "metadata": {},
   "outputs": [
    {
     "data": {
      "application/vnd.jupyter.widget-view+json": {
       "model_id": "a392915c90b8474e85a18bc7bfc4ecae",
       "version_major": 2,
       "version_minor": 0
      },
      "text/plain": [
       "FigureCanvasNbAgg()"
      ]
     },
     "metadata": {},
     "output_type": "display_data"
    },
    {
     "data": {
      "text/plain": [
       "[<matplotlib.lines.Line2D at 0x115947dd8>]"
      ]
     },
     "execution_count": 3,
     "metadata": {},
     "output_type": "execute_result"
    }
   ],
   "source": [
    "%matplotlib widget\n",
    "import numpy as np\n",
    "import pandas as pd\n",
    "import matplotlib.pyplot as plt\n",
    "from matplotlib.dates import DateFormatter\n",
    "\n",
    "years = pd.date_range(start=\"1/1/1990\",end=\"1/1/2015\", freq=\"YS\")\n",
    "params = [\"PRCP\", \"ET\"]\n",
    "\n",
    "mm_to_in = 25.4\n",
    "\n",
    "imported = pd.read_csv(\"../../data/PRISM/PRISM_processed.csv\", index_col=\"Date\")\n",
    "\n",
    "precipitation_arr = pd.DataFrame(imported[\"PRCP\"].values.reshape((len(years), 12)), index=years)\n",
    "precipitation = precipitation_arr.sum(axis=1) / mm_to_in\n",
    "\n",
    "fig = plt.figure(figsize=(10, 8), dpi=80)\n",
    "ax = fig.gca()\n",
    "\n",
    "# Plot yearly precipitation\n",
    "plt.subplot(211)\n",
    "plt.title(\"Precipitation (yearly)\")\n",
    "plt.ylabel('Precipitation (in)')\n",
    "ax.xaxis.set_major_formatter(DateFormatter('%Y-%m'))\n",
    "plt.plot(precipitation.index, precipitation.values)\n",
    "\n",
    "# Plot monthly precipitation\n",
    "plt.subplot(212)\n",
    "plt.xlabel('Year')\n",
    "plt.ylabel('Precipitation (in)')\n",
    "plt.title(\"Precipitation (monthly)\")\n",
    "ax.xaxis.set_major_formatter(DateFormatter('%Y-%m'))\n",
    "plt.plot(pd.to_datetime(imported.index.get_values()), imported[\"PRCP\"].values / mm_to_in)"
   ]
  },
  {
   "cell_type": "code",
   "execution_count": 5,
   "metadata": {},
   "outputs": [
    {
     "data": {
      "application/vnd.jupyter.widget-view+json": {
       "model_id": "dab0c3f1dafd49bbb0b2b746e2cbf9d5",
       "version_major": 2,
       "version_minor": 0
      },
      "text/plain": [
       "FigureCanvasNbAgg()"
      ]
     },
     "metadata": {},
     "output_type": "display_data"
    },
    {
     "data": {
      "text/plain": [
       "[<matplotlib.lines.Line2D at 0x1207778d0>]"
      ]
     },
     "execution_count": 5,
     "metadata": {},
     "output_type": "execute_result"
    }
   ],
   "source": [
    "evapotranspiration_arr = pd.DataFrame(imported[\"AET\"].values.reshape((len(years), 12)), index=years)\n",
    "evapotranspiration = evapotranspiration_arr.sum(axis=1) / mm_to_in\n",
    "\n",
    "fig = plt.figure(figsize=(10, 8), dpi=80)\n",
    "ax = fig.gca()\n",
    "\n",
    "# Plot yearly precipitation\n",
    "plt.subplot(211)\n",
    "plt.title(\"Actual Evapotranspiration (yearly)\")\n",
    "plt.ylabel('Actual Evapotranspiration (in)')\n",
    "ax.xaxis.set_major_formatter(DateFormatter('%Y-%m'))\n",
    "plt.plot(evapotranspiration.index, evapotranspiration.values)\n",
    "\n",
    "# Plot monthly precipitation\n",
    "plt.subplot(212)\n",
    "plt.title(\"Actual Evapotranspiration (monthly)\")\n",
    "plt.xlabel('Year')\n",
    "plt.ylabel('Actual Evapotranspiration (in)')\n",
    "ax.xaxis.set_major_formatter(DateFormatter('%Y-%m'))\n",
    "plt.plot(pd.to_datetime(imported.index.get_values()), imported[\"AET\"].values / mm_to_in)"
   ]
  },
  {
   "cell_type": "code",
   "execution_count": null,
   "metadata": {},
   "outputs": [],
   "source": []
  }
 ],
 "metadata": {
  "kernelspec": {
   "display_name": "Python 3",
   "language": "python",
   "name": "python3"
  },
  "language_info": {
   "codemirror_mode": {
    "name": "ipython",
    "version": 3
   },
   "file_extension": ".py",
   "mimetype": "text/x-python",
   "name": "python",
   "nbconvert_exporter": "python",
   "pygments_lexer": "ipython3",
   "version": "3.6.5"
  }
 },
 "nbformat": 4,
 "nbformat_minor": 2
}
