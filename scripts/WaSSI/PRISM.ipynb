{
 "cells": [
  {
   "cell_type": "code",
   "execution_count": 1,
   "metadata": {},
   "outputs": [
    {
     "data": {
      "application/vnd.jupyter.widget-view+json": {
       "model_id": "63eff085b48a435f8d7c4156b944ea04",
       "version_major": 2,
       "version_minor": 0
      },
      "text/plain": [
       "FigureCanvasNbAgg()"
      ]
     },
     "metadata": {},
     "output_type": "display_data"
    },
    {
     "data": {
      "text/plain": [
       "[<matplotlib.lines.Line2D at 0x111741c88>]"
      ]
     },
     "execution_count": 1,
     "metadata": {},
     "output_type": "execute_result"
    }
   ],
   "source": [
    "%matplotlib widget\n",
    "import numpy as np\n",
    "import pandas as pd\n",
    "import matplotlib.pyplot as plt\n",
    "from matplotlib.dates import DateFormatter\n",
    "\n",
    "years = pd.date_range(start=\"1/1/1990\",end=\"1/1/2015\", freq=\"YS\")\n",
    "params = [\"PRCP\", \"ET\"]\n",
    "\n",
    "mm_to_in = 25.4\n",
    "\n",
    "imported = pd.read_csv(\"../../data/PRISM/PRISM_processed.csv\", index_col=\"Date\")\n",
    "\n",
    "precipitation_arr = pd.DataFrame(imported[\"PRCP\"].values.reshape((len(years), 12)), index=years)\n",
    "precipitation = precipitation_arr.sum(axis=1) / mm_to_in\n",
    "\n",
    "fig = plt.figure(figsize=(10, 8), dpi=80)\n",
    "ax = fig.gca()\n",
    "\n",
    "# Plot yearly precipitation\n",
    "plt.subplot(211)\n",
    "plt.title(\"Precipitation (yearly)\")\n",
    "plt.ylabel('Precipitation (in)')\n",
    "ax.xaxis.set_major_formatter(DateFormatter('%Y-%m'))\n",
    "plt.plot(precipitation.index, precipitation.values)\n",
    "\n",
    "# Plot monthly precipitation\n",
    "plt.subplot(212)\n",
    "plt.xlabel('Year')\n",
    "plt.ylabel('Precipitation (in)')\n",
    "plt.title(\"Precipitation (monthly)\")\n",
    "ax.xaxis.set_major_formatter(DateFormatter('%Y-%m'))\n",
    "plt.plot(pd.to_datetime(imported.index.get_values()), imported[\"PRCP\"].values / mm_to_in)"
   ]
  },
  {
   "cell_type": "code",
   "execution_count": 2,
   "metadata": {},
   "outputs": [
    {
     "data": {
      "application/vnd.jupyter.widget-view+json": {
       "model_id": "f09391427fa44f3d93283c491e89f806",
       "version_major": 2,
       "version_minor": 0
      },
      "text/plain": [
       "FigureCanvasNbAgg()"
      ]
     },
     "metadata": {},
     "output_type": "display_data"
    },
    {
     "data": {
      "text/plain": [
       "[<matplotlib.lines.Line2D at 0x111885c50>]"
      ]
     },
     "execution_count": 2,
     "metadata": {},
     "output_type": "execute_result"
    }
   ],
   "source": [
    "evapotranspiration_arr = pd.DataFrame(imported[\"ET\"].values.reshape((len(years), 12)), index=years)\n",
    "evapotranspiration = evapotranspiration_arr.sum(axis=1) / mm_to_in\n",
    "\n",
    "fig = plt.figure(figsize=(10, 8), dpi=80)\n",
    "ax = fig.gca()\n",
    "\n",
    "# Plot yearly precipitation\n",
    "plt.subplot(211)\n",
    "plt.title(\"Evapotranspiration (yearly)\")\n",
    "plt.ylabel('Evapotranspiration (in)')\n",
    "ax.xaxis.set_major_formatter(DateFormatter('%Y-%m'))\n",
    "plt.plot(evapotranspiration.index, evapotranspiration.values)\n",
    "\n",
    "# Plot monthly precipitation\n",
    "plt.subplot(212)\n",
    "plt.title(\"Evapotranspiration (monthly)\")\n",
    "plt.xlabel('Year')\n",
    "plt.ylabel('Evapotranspiration (in)')\n",
    "ax.xaxis.set_major_formatter(DateFormatter('%Y-%m'))\n",
    "plt.plot(pd.to_datetime(imported.index.get_values()), imported[\"ET\"].values / mm_to_in)"
   ]
  },
  {
   "cell_type": "code",
   "execution_count": null,
   "metadata": {},
   "outputs": [],
   "source": []
  }
 ],
 "metadata": {
  "kernelspec": {
   "display_name": "Python 3",
   "language": "python",
   "name": "python3"
  },
  "language_info": {
   "codemirror_mode": {
    "name": "ipython",
    "version": 3
   },
   "file_extension": ".py",
   "mimetype": "text/x-python",
   "name": "python",
   "nbconvert_exporter": "python",
   "pygments_lexer": "ipython3",
   "version": "3.6.5"
  }
 },
 "nbformat": 4,
 "nbformat_minor": 2
}
